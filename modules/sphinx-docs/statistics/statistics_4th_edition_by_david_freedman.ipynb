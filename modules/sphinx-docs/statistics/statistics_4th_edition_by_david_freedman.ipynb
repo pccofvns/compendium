{
 "cells": [
  {
   "cell_type": "markdown",
   "metadata": {},
   "source": [
    "# Statistics"
   ]
  },
  {
   "cell_type": "markdown",
   "metadata": {},
   "source": [
    "## Design Of Experiments"
   ]
  },
  {
   "cell_type": "markdown",
   "metadata": {},
   "source": [
    "### Controlled Experiments\n",
    "\n",
    "1. Statisticians use *method of comparison*. They want to know the effect of a *treatment* (like the Salk vaccine) on a *response* (like getting polio). To find out they compare the responses of a *treatment group* with a *control group*. Usually, it is hard to judge the effect of treatment  without comparing it to something else. \n",
    "\n",
    "2. If the control group is comparable to the treatmemnt group, part from the treatment, then a difference in the responses of the two groups is likely to be due to the effect of the treatment.\n",
    "\n",
    "3. However, if the treatment group is different from the control group with respect to other factors, the effect of these other factors are likely to be *confounded* with the effect of treatment. \n",
    "\n",
    "4. To make sure that the treatment group is like control group, investigators put subjects into treatment or control at random. This is done in *randomized control experiments*. \n",
    "\n",
    "5. Whenever possible, the control group is given a *placebo*, which is neutral but resembles the treatment. The response should be to the treatment itself rather than to the idea of treatment. \n",
    "\n",
    "6. In a *double-blind* experiment, the subjects do not know whether they are in treatment or in control; neither do those who evaluate the responses. This guards against bias, either in the responses or in the evaluations."
   ]
  },
  {
   "cell_type": "markdown",
   "metadata": {},
   "source": [
    "### Observational Studies\n",
    "\n",
    "1. In an *observational study*, the investigators do not assign subjects to treatment or control. Some of the subjects have the condition whose effects are being studied; this is the treatment group. The other subjects are controls. For example, in astudy of smoking, the smokers form the treatment group and the non-smokers are the controls. \n",
    "\n",
    "2. Observational studies can esablish *association*: one thing is linked to another. Association may point to causation: if exposure causes disease then people who are exposed should be sicker than similar people who are not exposed. But association does not prove causation. \n",
    "\n",
    "3. In an observational study, the effects of treatment may be confounded with the effects of factors that got the subjects into treatment or control in the first place. Observational studies can be quite misleading about cause-and-effect relationships, because of confounding. A *confounder* is a third variable, associated with exposure and with disease. \n",
    "\n",
    "4. When looking at the study, ask the following questions. Was there any control group at all? Were historical controls used, or contemporaneous controls? How were subjects assigned to treatment - through process under the control of investigator (a controlled experiment), or a process outside the control of the investigator (an observational study)? If a controlled experiment, was the assignment made using a chance mechanism (randomized controlled), or did assignment depend on the judgement of the investigator? \n",
    "\n",
    "![](studies.drawio.svg \"Experiments\")"
   ]
  }
 ],
 "metadata": {
  "interpreter": {
   "hash": "aee8b7b246df8f9039afb4144a1f6fd8d2ca17a180786b69acc140d282b71a49"
  },
  "kernelspec": {
   "display_name": "Python 3.9.8 64-bit",
   "name": "python3"
  },
  "language_info": {
   "codemirror_mode": {
    "name": "ipython",
    "version": 3
   },
   "file_extension": ".py",
   "mimetype": "text/x-python",
   "name": "python",
   "nbconvert_exporter": "python",
   "pygments_lexer": "ipython3",
   "version": "3.9.9"
  }
 },
 "nbformat": 4,
 "nbformat_minor": 2
}
